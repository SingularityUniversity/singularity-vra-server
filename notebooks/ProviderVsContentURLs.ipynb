{
 "cells": [
  {
   "cell_type": "code",
   "execution_count": 1,
   "metadata": {
    "collapsed": true
   },
   "outputs": [],
   "source": [
    "%matplotlib inline"
   ]
  },
  {
   "cell_type": "code",
   "execution_count": 2,
   "metadata": {
    "collapsed": true
   },
   "outputs": [],
   "source": [
    "import json\n",
    "import glob\n",
    "from urllib.parse import urlparse\n",
    "from bs4 import BeautifulSoup\n",
    "import tqdm\n",
    "import pandas"
   ]
  },
  {
   "cell_type": "markdown",
   "metadata": {},
   "source": [
    "Modify the directory where the json files are globbed to run this locally (use aws sync to grab the content directory)"
   ]
  },
  {
   "cell_type": "code",
   "execution_count": 3,
   "metadata": {
    "collapsed": false
   },
   "outputs": [
    {
     "data": {
      "text/plain": [
       "2134"
      ]
     },
     "execution_count": 3,
     "metadata": {},
     "output_type": "execute_result"
    }
   ],
   "source": [
    "docs=[]\n",
    "for filename in glob.glob('../loaded_data/dump/content/*/*/*.json'):\n",
    "    with open(filename) as infile:\n",
    "        docs.append(json.load(infile))\n",
    "len(docs)"
   ]
  },
  {
   "cell_type": "code",
   "execution_count": null,
   "metadata": {
    "collapsed": true
   },
   "outputs": [],
   "source": []
  },
  {
   "cell_type": "code",
   "execution_count": 4,
   "metadata": {
    "collapsed": true
   },
   "outputs": [],
   "source": [
    "test_doc = docs[111]\n",
    "extract = test_doc['extract']\n",
    "content = extract['content']\n",
    "provider_url = extract['provider_url']"
   ]
  },
  {
   "cell_type": "code",
   "execution_count": 5,
   "metadata": {
    "collapsed": false
   },
   "outputs": [
    {
     "data": {
      "text/plain": [
       "'http://www.jpl.nasa.gov/'"
      ]
     },
     "execution_count": 5,
     "metadata": {},
     "output_type": "execute_result"
    }
   ],
   "source": [
    "f=urlparse(provider_url)\n",
    "f.scheme+\"://\"+f.netloc+\"/\"+f.path"
   ]
  },
  {
   "cell_type": "code",
   "execution_count": 6,
   "metadata": {
    "collapsed": false
   },
   "outputs": [
    {
     "data": {
      "text/plain": [
       "'http://www.jpl.nasa.gov'"
      ]
     },
     "execution_count": 6,
     "metadata": {},
     "output_type": "execute_result"
    }
   ],
   "source": [
    "provider_url"
   ]
  },
  {
   "cell_type": "code",
   "execution_count": 7,
   "metadata": {
    "collapsed": false
   },
   "outputs": [],
   "source": [
    "soup = BeautifulSoup(content, 'html5lib')"
   ]
  },
  {
   "cell_type": "code",
   "execution_count": 8,
   "metadata": {
    "collapsed": false
   },
   "outputs": [
    {
     "data": {
      "text/plain": [
       "['http://www.nasa.gov/mission_pages/WISE/multimedia/gallery/pia13455.html',\n",
       " 'http://www.nasa.gov/spitzer',\n",
       " 'http://spitzer.caltech.edu',\n",
       " 'http://www.nasa.gov/wise']"
      ]
     },
     "execution_count": 8,
     "metadata": {},
     "output_type": "execute_result"
    }
   ],
   "source": [
    "[elem.get('href') for elem in soup.find_all('a')]\n"
   ]
  },
  {
   "cell_type": "code",
   "execution_count": 9,
   "metadata": {
    "collapsed": true
   },
   "outputs": [],
   "source": [
    "def get_urls(content):\n",
    "    soup=BeautifulSoup(content, 'html5lib')\n",
    "    urls = [link.get('href') for link in soup.find_all('a')]\n",
    "    return urls"
   ]
  },
  {
   "cell_type": "code",
   "execution_count": 10,
   "metadata": {
    "collapsed": false
   },
   "outputs": [
    {
     "name": "stderr",
     "output_type": "stream",
     "text": [
      "100%|██████████| 2134/2134 [00:12<00:00, 167.14it/s]\n"
     ]
    }
   ],
   "source": [
    "domain_counts={}\n",
    "provider_domain_counts={}\n",
    "for doc in tqdm.tqdm(docs):\n",
    "    extract=doc['extract']\n",
    "    content=extract['content']\n",
    "    provider_url=extract['provider_url']\n",
    "    provider_parts = urlparse(provider_url)\n",
    "    provider_domain = provider_parts.netloc\n",
    "    provider_domain_counts[provider_domain] = provider_domain_counts.get(provider_domain, 0) + 1\n",
    "    if content is not None and len(content) > 0:\n",
    "        urls = get_urls(content)\n",
    "        for url in urls:\n",
    "            parts = urlparse(url)\n",
    "            domain = parts.netloc\n",
    "            if domain != provider_domain:\n",
    "                domain_counts[domain] = domain_counts.get(domain, 0) + 1\n",
    "                "
   ]
  },
  {
   "cell_type": "code",
   "execution_count": 11,
   "metadata": {
    "collapsed": false
   },
   "outputs": [
    {
     "data": {
      "text/plain": [
       "www.breastcancer.org            1\n",
       "abc13.com                       1\n",
       "www.bilanz.ch                   1\n",
       "biomimicry.org                  1\n",
       "engineering.dartmouth.edu       1\n",
       "wonkette.com                    1\n",
       "changingminds.org               1\n",
       "www.kpcb.com                    1\n",
       "redditmetrics.com               1\n",
       "www.utas.edu.au                 1\n",
       "flic.kr                         1\n",
       "grantland.com                   1\n",
       "patft.uspto.gov                 1\n",
       "www.stlouisfed.org              1\n",
       "pwg.gsfc.nasa.gov               1\n",
       "w3c.github.io                   1\n",
       "ds9.botanik.uni-bonn.de         1\n",
       "www.pubservice.com              1\n",
       "lakdiva.org                     1\n",
       "www.aauw.org                    1\n",
       "www.ebikekit.com                1\n",
       "medicine.temple.edu             1\n",
       "communitytable.com              1\n",
       "video.cnbc.com                  1\n",
       "www.simonsfoundation.org        1\n",
       "highway1.io                     1\n",
       "www.rsb.org.uk                  1\n",
       "www.missionjuno.swri.edu        1\n",
       "www.turbulenceforecast.com      1\n",
       "www.cs.toronto.edu              1\n",
       "                             ... \n",
       "img.medicalxpress.com          26\n",
       "www.amazon.com                 27\n",
       "www.collectspace.com           28\n",
       "doi.org                        28\n",
       "www.ncbi.nlm.nih.gov           28\n",
       "dawnblog.jpl.nasa.gov          31\n",
       "www.theguardian.com            31\n",
       "www.nature.com                 33\n",
       "eepurl.com                     33\n",
       "www.esa.int                    36\n",
       "www.nytimes.com                37\n",
       "plus.google.com                41\n",
       "www.eurekalert.org             42\n",
       "t.co                           44\n",
       "arxiv.org                      46\n",
       "theconversation.com            53\n",
       "dx.doi.org                     54\n",
       "dawn.jpl.nasa.gov              54\n",
       "news.discovery.com             55\n",
       "www.pinterest.com              64\n",
       "cdn.phys.org                   71\n",
       "www.livescience.com            75\n",
       "www.youtube.com                82\n",
       "medicalxpress.com              93\n",
       "phys.org                       96\n",
       "                              100\n",
       "www.facebook.com              135\n",
       "en.wikipedia.org              137\n",
       "www.nasa.gov                  236\n",
       "twitter.com                   272\n",
       "dtype: int64"
      ]
     },
     "execution_count": 11,
     "metadata": {},
     "output_type": "execute_result"
    }
   ],
   "source": [
    "pandas.Series(domain_counts).sort_values()"
   ]
  },
  {
   "cell_type": "code",
   "execution_count": 12,
   "metadata": {
    "collapsed": false
   },
   "outputs": [
    {
     "data": {
      "text/plain": [
       "zeenews.india.com                          1\n",
       "www.kpbs.org                               1\n",
       "www.ksdk.com                               1\n",
       "whqr.org                                   1\n",
       "www.ksla.com                               1\n",
       "www.livescience.com                        1\n",
       "veterinarynews.dvm360.com                  1\n",
       "www.massdevice.com                         1\n",
       "www.mirror.co.uk                           1\n",
       "www.montereyherald.com                     1\n",
       "www.moondaily.com                          1\n",
       "www.nanodaily.com                          1\n",
       "ssi.org                                    1\n",
       "www.nasaspaceflight.com                    1\n",
       "spaceflightnow.com                         1\n",
       "robohub.org                                1\n",
       "www.nbcnews.com                            1\n",
       "www.news-medical.net                       1\n",
       "www.ft.com                                 1\n",
       "ophthalmologytimes.modernmedicine.com      1\n",
       "norcal.news                                1\n",
       "www.news.ucsb.edu                          1\n",
       "www.kmov.com                               1\n",
       "newsok.com                                 1\n",
       "www.arkansasmatters.com                    1\n",
       "www.bleedcubbieblue.com                    1\n",
       "www.foxnews.com                            1\n",
       "www.gizmag.com                             1\n",
       "www.flightglobal.com                       1\n",
       "yubanet.com                                1\n",
       "                                        ... \n",
       "news.upenn.edu                            16\n",
       "www.nytimes.com                           17\n",
       "apod.nasa.gov                             17\n",
       "makezine.com                              19\n",
       "www.nellwatson.com                        19\n",
       "www.roboticstrends.com                    19\n",
       "www.shortoftheweek.com                    21\n",
       "venturebeat.com                           21\n",
       "www.popsci.com                            24\n",
       "www.theverge.com                          27\n",
       "nasawatch.com                             30\n",
       "www.huffingtonpost.com                    30\n",
       "m.medicalxpress.com                       31\n",
       "www.inverse.com                           31\n",
       "mashable.com                              32\n",
       "www.sciencedaily.com                      39\n",
       "m.phys.org                                39\n",
       "www.forbes.com                            40\n",
       "medium.com                                40\n",
       "www.digitaltrends.com                     41\n",
       "www.universetoday.com                     47\n",
       "business.financialpost.com                49\n",
       "www.esa.int                               59\n",
       "spaceref.com                              65\n",
       "www.roboticstomorrow.com                  67\n",
       "www.topix.com                             69\n",
       "www.newscientist.com                     116\n",
       "www.jpl.nasa.gov                         125\n",
       "www.space.com                            143\n",
       "www.spacedaily.com                       168\n",
       "dtype: int64"
      ]
     },
     "execution_count": 12,
     "metadata": {},
     "output_type": "execute_result"
    }
   ],
   "source": [
    "pandas.Series(provider_domain_counts).sort_values()"
   ]
  },
  {
   "cell_type": "code",
   "execution_count": 13,
   "metadata": {
    "collapsed": false
   },
   "outputs": [
    {
     "data": {
      "text/plain": [
       "272"
      ]
     },
     "execution_count": 13,
     "metadata": {},
     "output_type": "execute_result"
    }
   ],
   "source": [
    "domain_counts['twitter.com']"
   ]
  },
  {
   "cell_type": "code",
   "execution_count": 14,
   "metadata": {
    "collapsed": false
   },
   "outputs": [],
   "source": [
    "stats = pandas.DataFrame.from_dict(provider_domain_counts, orient=\"index\")"
   ]
  },
  {
   "cell_type": "code",
   "execution_count": 15,
   "metadata": {
    "collapsed": false
   },
   "outputs": [],
   "source": [
    "stats.columns=(['provider_urls'])\n"
   ]
  },
  {
   "cell_type": "code",
   "execution_count": 16,
   "metadata": {
    "collapsed": false
   },
   "outputs": [],
   "source": [
    "stats['content_appearances'] = stats.index.map(lambda x: domain_counts.get(x, 0))"
   ]
  },
  {
   "cell_type": "code",
   "execution_count": 17,
   "metadata": {
    "collapsed": false
   },
   "outputs": [],
   "source": [
    "stats.sort_values('content_appearances', ascending=False, inplace=True)"
   ]
  },
  {
   "cell_type": "code",
   "execution_count": 18,
   "metadata": {
    "collapsed": false
   },
   "outputs": [],
   "source": [
    "stats['ratio'] = stats['content_appearances'] / stats['provider_urls']"
   ]
  },
  {
   "cell_type": "code",
   "execution_count": 19,
   "metadata": {
    "collapsed": false
   },
   "outputs": [],
   "source": [
    "stats.sort_values('ratio', ascending=False, inplace=True)"
   ]
  },
  {
   "cell_type": "code",
   "execution_count": 20,
   "metadata": {
    "collapsed": false,
    "scrolled": false
   },
   "outputs": [
    {
     "data": {
      "text/html": [
       "<div>\n",
       "<table border=\"1\" class=\"dataframe\">\n",
       "  <thead>\n",
       "    <tr style=\"text-align: right;\">\n",
       "      <th></th>\n",
       "      <th>provider_urls</th>\n",
       "      <th>content_appearances</th>\n",
       "      <th>ratio</th>\n",
       "    </tr>\n",
       "  </thead>\n",
       "  <tbody>\n",
       "    <tr>\n",
       "      <th>www.livescience.com</th>\n",
       "      <td>1</td>\n",
       "      <td>75</td>\n",
       "      <td>75.000000</td>\n",
       "    </tr>\n",
       "    <tr>\n",
       "      <th>www.eurekalert.org</th>\n",
       "      <td>1</td>\n",
       "      <td>42</td>\n",
       "      <td>42.000000</td>\n",
       "    </tr>\n",
       "    <tr>\n",
       "      <th>www.nasa.gov</th>\n",
       "      <td>10</td>\n",
       "      <td>236</td>\n",
       "      <td>23.600000</td>\n",
       "    </tr>\n",
       "    <tr>\n",
       "      <th>www.nature.com</th>\n",
       "      <td>2</td>\n",
       "      <td>33</td>\n",
       "      <td>16.500000</td>\n",
       "    </tr>\n",
       "    <tr>\n",
       "      <th>www.npr.org</th>\n",
       "      <td>1</td>\n",
       "      <td>7</td>\n",
       "      <td>7.000000</td>\n",
       "    </tr>\n",
       "    <tr>\n",
       "      <th>www.youtube.com</th>\n",
       "      <td>13</td>\n",
       "      <td>82</td>\n",
       "      <td>6.307692</td>\n",
       "    </tr>\n",
       "    <tr>\n",
       "      <th>www.telegraph.co.uk</th>\n",
       "      <td>1</td>\n",
       "      <td>5</td>\n",
       "      <td>5.000000</td>\n",
       "    </tr>\n",
       "    <tr>\n",
       "      <th>www.independent.co.uk</th>\n",
       "      <td>1</td>\n",
       "      <td>5</td>\n",
       "      <td>5.000000</td>\n",
       "    </tr>\n",
       "    <tr>\n",
       "      <th>fortune.com</th>\n",
       "      <td>1</td>\n",
       "      <td>4</td>\n",
       "      <td>4.000000</td>\n",
       "    </tr>\n",
       "    <tr>\n",
       "      <th>spaceflightnow.com</th>\n",
       "      <td>1</td>\n",
       "      <td>3</td>\n",
       "      <td>3.000000</td>\n",
       "    </tr>\n",
       "    <tr>\n",
       "      <th>www.bbc.co.uk</th>\n",
       "      <td>2</td>\n",
       "      <td>5</td>\n",
       "      <td>2.500000</td>\n",
       "    </tr>\n",
       "    <tr>\n",
       "      <th>www.nytimes.com</th>\n",
       "      <td>17</td>\n",
       "      <td>37</td>\n",
       "      <td>2.176471</td>\n",
       "    </tr>\n",
       "    <tr>\n",
       "      <th>www.nbcnews.com</th>\n",
       "      <td>1</td>\n",
       "      <td>2</td>\n",
       "      <td>2.000000</td>\n",
       "    </tr>\n",
       "    <tr>\n",
       "      <th>www.smithsonianmag.com</th>\n",
       "      <td>2</td>\n",
       "      <td>4</td>\n",
       "      <td>2.000000</td>\n",
       "    </tr>\n",
       "    <tr>\n",
       "      <th>www.skyandtelescope.com</th>\n",
       "      <td>1</td>\n",
       "      <td>2</td>\n",
       "      <td>2.000000</td>\n",
       "    </tr>\n",
       "    <tr>\n",
       "      <th>www.scientificamerican.com</th>\n",
       "      <td>3</td>\n",
       "      <td>6</td>\n",
       "      <td>2.000000</td>\n",
       "    </tr>\n",
       "    <tr>\n",
       "      <th>www.economist.com</th>\n",
       "      <td>1</td>\n",
       "      <td>2</td>\n",
       "      <td>2.000000</td>\n",
       "    </tr>\n",
       "    <tr>\n",
       "      <th>www.reuters.com</th>\n",
       "      <td>6</td>\n",
       "      <td>8</td>\n",
       "      <td>1.333333</td>\n",
       "    </tr>\n",
       "    <tr>\n",
       "      <th>kotaku.com</th>\n",
       "      <td>1</td>\n",
       "      <td>1</td>\n",
       "      <td>1.000000</td>\n",
       "    </tr>\n",
       "    <tr>\n",
       "      <th>www.dailymail.co.uk</th>\n",
       "      <td>5</td>\n",
       "      <td>5</td>\n",
       "      <td>1.000000</td>\n",
       "    </tr>\n",
       "    <tr>\n",
       "      <th>www.cbsnews.com</th>\n",
       "      <td>2</td>\n",
       "      <td>2</td>\n",
       "      <td>1.000000</td>\n",
       "    </tr>\n",
       "    <tr>\n",
       "      <th>www.gizmag.com</th>\n",
       "      <td>1</td>\n",
       "      <td>1</td>\n",
       "      <td>1.000000</td>\n",
       "    </tr>\n",
       "    <tr>\n",
       "      <th>blog.trossenrobotics.com</th>\n",
       "      <td>1</td>\n",
       "      <td>1</td>\n",
       "      <td>1.000000</td>\n",
       "    </tr>\n",
       "    <tr>\n",
       "      <th>www.wfaa.com</th>\n",
       "      <td>1</td>\n",
       "      <td>1</td>\n",
       "      <td>1.000000</td>\n",
       "    </tr>\n",
       "    <tr>\n",
       "      <th>www.kmov.com</th>\n",
       "      <td>1</td>\n",
       "      <td>1</td>\n",
       "      <td>1.000000</td>\n",
       "    </tr>\n",
       "    <tr>\n",
       "      <th>www.detroitnews.com</th>\n",
       "      <td>1</td>\n",
       "      <td>1</td>\n",
       "      <td>1.000000</td>\n",
       "    </tr>\n",
       "    <tr>\n",
       "      <th>www.mirror.co.uk</th>\n",
       "      <td>1</td>\n",
       "      <td>1</td>\n",
       "      <td>1.000000</td>\n",
       "    </tr>\n",
       "    <tr>\n",
       "      <th>www.astrobio.net</th>\n",
       "      <td>1</td>\n",
       "      <td>1</td>\n",
       "      <td>1.000000</td>\n",
       "    </tr>\n",
       "    <tr>\n",
       "      <th>arstechnica.com</th>\n",
       "      <td>11</td>\n",
       "      <td>11</td>\n",
       "      <td>1.000000</td>\n",
       "    </tr>\n",
       "    <tr>\n",
       "      <th>www.wired.com</th>\n",
       "      <td>12</td>\n",
       "      <td>11</td>\n",
       "      <td>0.916667</td>\n",
       "    </tr>\n",
       "    <tr>\n",
       "      <th>...</th>\n",
       "      <td>...</td>\n",
       "      <td>...</td>\n",
       "      <td>...</td>\n",
       "    </tr>\n",
       "    <tr>\n",
       "      <th>www.sci-news.com</th>\n",
       "      <td>2</td>\n",
       "      <td>0</td>\n",
       "      <td>0.000000</td>\n",
       "    </tr>\n",
       "    <tr>\n",
       "      <th>fcw.com</th>\n",
       "      <td>6</td>\n",
       "      <td>0</td>\n",
       "      <td>0.000000</td>\n",
       "    </tr>\n",
       "    <tr>\n",
       "      <th>deals.kinja.com</th>\n",
       "      <td>1</td>\n",
       "      <td>0</td>\n",
       "      <td>0.000000</td>\n",
       "    </tr>\n",
       "    <tr>\n",
       "      <th>www.energy-daily.com</th>\n",
       "      <td>4</td>\n",
       "      <td>0</td>\n",
       "      <td>0.000000</td>\n",
       "    </tr>\n",
       "    <tr>\n",
       "      <th>www.greentechmedia.com</th>\n",
       "      <td>1</td>\n",
       "      <td>0</td>\n",
       "      <td>0.000000</td>\n",
       "    </tr>\n",
       "    <tr>\n",
       "      <th>www.dnainfo.com</th>\n",
       "      <td>1</td>\n",
       "      <td>0</td>\n",
       "      <td>0.000000</td>\n",
       "    </tr>\n",
       "    <tr>\n",
       "      <th>www.thespacereview.com</th>\n",
       "      <td>9</td>\n",
       "      <td>0</td>\n",
       "      <td>0.000000</td>\n",
       "    </tr>\n",
       "    <tr>\n",
       "      <th>www.kbtx.com</th>\n",
       "      <td>1</td>\n",
       "      <td>0</td>\n",
       "      <td>0.000000</td>\n",
       "    </tr>\n",
       "    <tr>\n",
       "      <th>www.planetary.org</th>\n",
       "      <td>15</td>\n",
       "      <td>0</td>\n",
       "      <td>0.000000</td>\n",
       "    </tr>\n",
       "    <tr>\n",
       "      <th>cumberlink.com</th>\n",
       "      <td>1</td>\n",
       "      <td>0</td>\n",
       "      <td>0.000000</td>\n",
       "    </tr>\n",
       "    <tr>\n",
       "      <th>www.satellitetoday.com</th>\n",
       "      <td>1</td>\n",
       "      <td>0</td>\n",
       "      <td>0.000000</td>\n",
       "    </tr>\n",
       "    <tr>\n",
       "      <th>www.canindia.com</th>\n",
       "      <td>1</td>\n",
       "      <td>0</td>\n",
       "      <td>0.000000</td>\n",
       "    </tr>\n",
       "    <tr>\n",
       "      <th>www.healio.com</th>\n",
       "      <td>1</td>\n",
       "      <td>0</td>\n",
       "      <td>0.000000</td>\n",
       "    </tr>\n",
       "    <tr>\n",
       "      <th>www.pnj.com</th>\n",
       "      <td>1</td>\n",
       "      <td>0</td>\n",
       "      <td>0.000000</td>\n",
       "    </tr>\n",
       "    <tr>\n",
       "      <th>www.gpsdaily.com</th>\n",
       "      <td>5</td>\n",
       "      <td>0</td>\n",
       "      <td>0.000000</td>\n",
       "    </tr>\n",
       "    <tr>\n",
       "      <th>www.scienceworldreport.com</th>\n",
       "      <td>2</td>\n",
       "      <td>0</td>\n",
       "      <td>0.000000</td>\n",
       "    </tr>\n",
       "    <tr>\n",
       "      <th>discovery.com</th>\n",
       "      <td>1</td>\n",
       "      <td>0</td>\n",
       "      <td>0.000000</td>\n",
       "    </tr>\n",
       "    <tr>\n",
       "      <th>www.citylab.com</th>\n",
       "      <td>7</td>\n",
       "      <td>0</td>\n",
       "      <td>0.000000</td>\n",
       "    </tr>\n",
       "    <tr>\n",
       "      <th>www.nanodaily.com</th>\n",
       "      <td>1</td>\n",
       "      <td>0</td>\n",
       "      <td>0.000000</td>\n",
       "    </tr>\n",
       "    <tr>\n",
       "      <th>www.foxnews.com</th>\n",
       "      <td>1</td>\n",
       "      <td>0</td>\n",
       "      <td>0.000000</td>\n",
       "    </tr>\n",
       "    <tr>\n",
       "      <th>fox4beaumont.com</th>\n",
       "      <td>1</td>\n",
       "      <td>0</td>\n",
       "      <td>0.000000</td>\n",
       "    </tr>\n",
       "    <tr>\n",
       "      <th>www.kpbs.org</th>\n",
       "      <td>1</td>\n",
       "      <td>0</td>\n",
       "      <td>0.000000</td>\n",
       "    </tr>\n",
       "    <tr>\n",
       "      <th>www.topix.com</th>\n",
       "      <td>69</td>\n",
       "      <td>0</td>\n",
       "      <td>0.000000</td>\n",
       "    </tr>\n",
       "    <tr>\n",
       "      <th>genomealberta.ca</th>\n",
       "      <td>4</td>\n",
       "      <td>0</td>\n",
       "      <td>0.000000</td>\n",
       "    </tr>\n",
       "    <tr>\n",
       "      <th>www.centauri-dreams.org</th>\n",
       "      <td>11</td>\n",
       "      <td>0</td>\n",
       "      <td>0.000000</td>\n",
       "    </tr>\n",
       "    <tr>\n",
       "      <th>www.roboticstrends.com</th>\n",
       "      <td>19</td>\n",
       "      <td>0</td>\n",
       "      <td>0.000000</td>\n",
       "    </tr>\n",
       "    <tr>\n",
       "      <th>www.techrepublic.com</th>\n",
       "      <td>6</td>\n",
       "      <td>0</td>\n",
       "      <td>0.000000</td>\n",
       "    </tr>\n",
       "    <tr>\n",
       "      <th>www.bleedcubbieblue.com</th>\n",
       "      <td>1</td>\n",
       "      <td>0</td>\n",
       "      <td>0.000000</td>\n",
       "    </tr>\n",
       "    <tr>\n",
       "      <th>sploid.gizmodo.com</th>\n",
       "      <td>3</td>\n",
       "      <td>0</td>\n",
       "      <td>0.000000</td>\n",
       "    </tr>\n",
       "    <tr>\n",
       "      <th>www.ksla.com</th>\n",
       "      <td>1</td>\n",
       "      <td>0</td>\n",
       "      <td>0.000000</td>\n",
       "    </tr>\n",
       "  </tbody>\n",
       "</table>\n",
       "<p>207 rows × 3 columns</p>\n",
       "</div>"
      ],
      "text/plain": [
       "                            provider_urls  content_appearances      ratio\n",
       "www.livescience.com                     1                   75  75.000000\n",
       "www.eurekalert.org                      1                   42  42.000000\n",
       "www.nasa.gov                           10                  236  23.600000\n",
       "www.nature.com                          2                   33  16.500000\n",
       "www.npr.org                             1                    7   7.000000\n",
       "www.youtube.com                        13                   82   6.307692\n",
       "www.telegraph.co.uk                     1                    5   5.000000\n",
       "www.independent.co.uk                   1                    5   5.000000\n",
       "fortune.com                             1                    4   4.000000\n",
       "spaceflightnow.com                      1                    3   3.000000\n",
       "www.bbc.co.uk                           2                    5   2.500000\n",
       "www.nytimes.com                        17                   37   2.176471\n",
       "www.nbcnews.com                         1                    2   2.000000\n",
       "www.smithsonianmag.com                  2                    4   2.000000\n",
       "www.skyandtelescope.com                 1                    2   2.000000\n",
       "www.scientificamerican.com              3                    6   2.000000\n",
       "www.economist.com                       1                    2   2.000000\n",
       "www.reuters.com                         6                    8   1.333333\n",
       "kotaku.com                              1                    1   1.000000\n",
       "www.dailymail.co.uk                     5                    5   1.000000\n",
       "www.cbsnews.com                         2                    2   1.000000\n",
       "www.gizmag.com                          1                    1   1.000000\n",
       "blog.trossenrobotics.com                1                    1   1.000000\n",
       "www.wfaa.com                            1                    1   1.000000\n",
       "www.kmov.com                            1                    1   1.000000\n",
       "www.detroitnews.com                     1                    1   1.000000\n",
       "www.mirror.co.uk                        1                    1   1.000000\n",
       "www.astrobio.net                        1                    1   1.000000\n",
       "arstechnica.com                        11                   11   1.000000\n",
       "www.wired.com                          12                   11   0.916667\n",
       "...                                   ...                  ...        ...\n",
       "www.sci-news.com                        2                    0   0.000000\n",
       "fcw.com                                 6                    0   0.000000\n",
       "deals.kinja.com                         1                    0   0.000000\n",
       "www.energy-daily.com                    4                    0   0.000000\n",
       "www.greentechmedia.com                  1                    0   0.000000\n",
       "www.dnainfo.com                         1                    0   0.000000\n",
       "www.thespacereview.com                  9                    0   0.000000\n",
       "www.kbtx.com                            1                    0   0.000000\n",
       "www.planetary.org                      15                    0   0.000000\n",
       "cumberlink.com                          1                    0   0.000000\n",
       "www.satellitetoday.com                  1                    0   0.000000\n",
       "www.canindia.com                        1                    0   0.000000\n",
       "www.healio.com                          1                    0   0.000000\n",
       "www.pnj.com                             1                    0   0.000000\n",
       "www.gpsdaily.com                        5                    0   0.000000\n",
       "www.scienceworldreport.com              2                    0   0.000000\n",
       "discovery.com                           1                    0   0.000000\n",
       "www.citylab.com                         7                    0   0.000000\n",
       "www.nanodaily.com                       1                    0   0.000000\n",
       "www.foxnews.com                         1                    0   0.000000\n",
       "fox4beaumont.com                        1                    0   0.000000\n",
       "www.kpbs.org                            1                    0   0.000000\n",
       "www.topix.com                          69                    0   0.000000\n",
       "genomealberta.ca                        4                    0   0.000000\n",
       "www.centauri-dreams.org                11                    0   0.000000\n",
       "www.roboticstrends.com                 19                    0   0.000000\n",
       "www.techrepublic.com                    6                    0   0.000000\n",
       "www.bleedcubbieblue.com                 1                    0   0.000000\n",
       "sploid.gizmodo.com                      3                    0   0.000000\n",
       "www.ksla.com                            1                    0   0.000000\n",
       "\n",
       "[207 rows x 3 columns]"
      ]
     },
     "execution_count": 20,
     "metadata": {},
     "output_type": "execute_result"
    }
   ],
   "source": [
    "stats"
   ]
  },
  {
   "cell_type": "code",
   "execution_count": 21,
   "metadata": {
    "collapsed": false
   },
   "outputs": [
    {
     "data": {
      "text/plain": [
       "<matplotlib.axes._subplots.AxesSubplot at 0x115715c88>"
      ]
     },
     "execution_count": 21,
     "metadata": {},
     "output_type": "execute_result"
    },
    {
     "data": {
      "image/png": "[encoded data removed]",
      "text/plain": [
       "<matplotlib.figure.Figure at 0x115715a20>"
      ]
     },
     "metadata": {},
     "output_type": "display_data"
    }
   ],
   "source": [
    "stats['ratio'].plot()\n"
   ]
  },
  {
   "cell_type": "code",
   "execution_count": 22,
   "metadata": {
    "collapsed": false
   },
   "outputs": [],
   "source": [
    "outside_domains={key:value for (key,value) in domain_counts.items() if key not in provider_domain_counts}"
   ]
  },
  {
   "cell_type": "code",
   "execution_count": 23,
   "metadata": {
    "collapsed": false,
    "scrolled": false
   },
   "outputs": [],
   "source": [
    "outside_domains=pandas.Series(outside_domains)\n"
   ]
  },
  {
   "cell_type": "code",
   "execution_count": 24,
   "metadata": {
    "collapsed": false
   },
   "outputs": [],
   "source": [
    "outside_domains.sort_values(ascending=False, inplace=True)\n"
   ]
  },
  {
   "cell_type": "code",
   "execution_count": 25,
   "metadata": {
    "collapsed": false
   },
   "outputs": [
    {
     "data": {
      "text/plain": [
       "twitter.com                              272\n",
       "en.wikipedia.org                         137\n",
       "www.facebook.com                         135\n",
       "                                         100\n",
       "phys.org                                  96\n",
       "medicalxpress.com                         93\n",
       "cdn.phys.org                              71\n",
       "www.pinterest.com                         64\n",
       "news.discovery.com                        55\n",
       "dx.doi.org                                54\n",
       "dawn.jpl.nasa.gov                         54\n",
       "theconversation.com                       53\n",
       "arxiv.org                                 46\n",
       "t.co                                      44\n",
       "plus.google.com                           41\n",
       "eepurl.com                                33\n",
       "dawnblog.jpl.nasa.gov                     31\n",
       "www.theguardian.com                       31\n",
       "www.ncbi.nlm.nih.gov                      28\n",
       "www.collectspace.com                      28\n",
       "doi.org                                   28\n",
       "www.amazon.com                            27\n",
       "img.medicalxpress.com                     26\n",
       "earthtones.org                            24\n",
       "dronelife.com                             21\n",
       "iopscience.iop.org                        20\n",
       "www.twitter.com                           19\n",
       "www.med.upenn.edu                         18\n",
       "itunes.apple.com                          17\n",
       "d1o50x50snmhul.cloudfront.net             17\n",
       "                                        ... \n",
       "museumvictoria.com.au                      1\n",
       "www.uow.edu.au                             1\n",
       "fr.slideshare.net                          1\n",
       "bagrathegame.com                           1\n",
       "www.greenbiz.com                           1\n",
       "yyue.blogspot.com                          1\n",
       "www.hackersforcharity.org                  1\n",
       "www.iast.fr                                1\n",
       "generationorbit.com                        1\n",
       "www.france24.com                           1\n",
       "www.grandviewresearch.com                  1\n",
       "pds-rings.seti.org                         1\n",
       "www.getkanvas.com                          1\n",
       "culturalheritageimaging.org                1\n",
       "www.hajimerobot.co.jp                      1\n",
       "www.thedodo.com                            1\n",
       "sks.to                                     1\n",
       "www.psych.unimelb.edu.au                   1\n",
       "www.vrse.com                               1\n",
       "www.epa.gov                                1\n",
       "themis.asu.edu                             1\n",
       "bigthink.com                               1\n",
       "pds-smallbodies.astro.umd.edu              1\n",
       "tv.majorleaguegaming.com                   1\n",
       "archpedi.jamanetwork.com                   1\n",
       "clinicaltrials.gov                         1\n",
       "theconver%C2%AC%C2%AC%C2%ACsation.com      1\n",
       "www.restructuringupdates.com               1\n",
       "www.bike.nyc                               1\n",
       "sens-vr.com                                1\n",
       "dtype: int64"
      ]
     },
     "execution_count": 25,
     "metadata": {},
     "output_type": "execute_result"
    }
   ],
   "source": [
    "outside_domains"
   ]
  },
  {
   "cell_type": "code",
   "execution_count": null,
   "metadata": {
    "collapsed": true
   },
   "outputs": [],
   "source": []
  }
 ],
 "metadata": {
  "celltoolbar": "Raw Cell Format",
  "kernelspec": {
   "display_name": "Python 3",
   "language": "python",
   "name": "python3"
  },
  "language_info": {
   "codemirror_mode": {
    "name": "ipython",
    "version": 3
   },
   "file_extension": ".py",
   "mimetype": "text/x-python",
   "name": "python",
   "nbconvert_exporter": "python",
   "pygments_lexer": "ipython3",
   "version": "3.5.1"
  }
 },
 "nbformat": 4,
 "nbformat_minor": 0
}
